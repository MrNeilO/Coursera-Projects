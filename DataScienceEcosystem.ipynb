{
  "metadata": {
    "kernelspec": {
      "name": "python",
      "display_name": "Python (Pyodide)",
      "language": "python"
    },
    "language_info": {
      "codemirror_mode": {
        "name": "python",
        "version": 3
      },
      "file_extension": ".py",
      "mimetype": "text/x-python",
      "name": "python",
      "nbconvert_exporter": "python",
      "pygments_lexer": "ipython3",
      "version": "3.8"
    }
  },
  "nbformat_minor": 4,
  "nbformat": 4,
  "cells": [
    {
      "cell_type": "markdown",
      "source": "# ***Exercise 1***",
      "metadata": {}
    },
    {
      "cell_type": "code",
      "source": "#Exercise 1: Create a Jupyter Notebook called \"DataScienceEcosystem.ipynb\n\n#Done",
      "metadata": {
        "trusted": true
      },
      "outputs": [],
      "execution_count": null
    },
    {
      "cell_type": "code",
      "source": "#####################################################################################################################################################\n#####################################################################################################################################################\n#####################################################################################################################################################",
      "metadata": {
        "trusted": true
      },
      "outputs": [],
      "execution_count": null
    },
    {
      "cell_type": "markdown",
      "source": "# ***Exercise 2***",
      "metadata": {}
    },
    {
      "cell_type": "code",
      "source": "#Exercise 2: Create a markdown cell with the title Data Science Tools and Ecosystem using H1 Sytle heading",
      "metadata": {
        "trusted": true
      },
      "outputs": [],
      "execution_count": null
    },
    {
      "cell_type": "code",
      "source": "# Data Science Tools and Ecosystem",
      "metadata": {
        "trusted": true
      },
      "outputs": [],
      "execution_count": null
    },
    {
      "cell_type": "markdown",
      "source": "# Data Science Tools and Ecosystem",
      "metadata": {}
    },
    {
      "cell_type": "code",
      "source": "#####################################################################################################################################################\n#####################################################################################################################################################\n#####################################################################################################################################################",
      "metadata": {
        "trusted": true
      },
      "outputs": [],
      "execution_count": null
    },
    {
      "cell_type": "markdown",
      "source": "# ***Exercise 3***",
      "metadata": {}
    },
    {
      "cell_type": "code",
      "source": "#Exercise 3: Create a markdown cell for an introduction. Write an introductory sentence about the notebook such as the following:\n#   - In this notebook, Data Science Tools and Ecosystem are summarized.",
      "metadata": {
        "trusted": true
      },
      "outputs": [],
      "execution_count": null
    },
    {
      "cell_type": "code",
      "source": "In this notebook, Data Science Tools and Ecosystem are summarized.",
      "metadata": {
        "trusted": true
      },
      "outputs": [],
      "execution_count": null
    },
    {
      "cell_type": "markdown",
      "source": "In this notebook, Data Science Tools and Ecosystem are summarized.",
      "metadata": {}
    },
    {
      "cell_type": "code",
      "source": "#####################################################################################################################################################\n#####################################################################################################################################################\n#####################################################################################################################################################",
      "metadata": {
        "trusted": true
      },
      "outputs": [],
      "execution_count": null
    },
    {
      "cell_type": "markdown",
      "source": "# ***Exercise 4***",
      "metadata": {}
    },
    {
      "cell_type": "code",
      "source": "#Exercise 4: Create a markdown cell to list data science languages",
      "metadata": {
        "trusted": true
      },
      "outputs": [],
      "execution_count": null
    },
    {
      "cell_type": "code",
      "source": "Some of the popular languages that Data Scientists use are:\n1. Python\n2. R\n3. SQL",
      "metadata": {
        "trusted": true
      },
      "outputs": [],
      "execution_count": null
    },
    {
      "cell_type": "markdown",
      "source": "Some of the popular languages that Data Scientists use are:\n1. Python\n2. R\n3. SQL",
      "metadata": {}
    },
    {
      "cell_type": "code",
      "source": "#####################################################################################################################################################\n#####################################################################################################################################################\n#####################################################################################################################################################",
      "metadata": {
        "trusted": true
      },
      "outputs": [],
      "execution_count": null
    },
    {
      "cell_type": "markdown",
      "source": "# ***Exercise 5***",
      "metadata": {}
    },
    {
      "cell_type": "code",
      "source": "#Exercise 5: Create a markdown cell to list data science libraries",
      "metadata": {
        "trusted": true
      },
      "outputs": [],
      "execution_count": null
    },
    {
      "cell_type": "code",
      "source": "Some of the commonly used libraries used by data Scientists include:\n- Pandas\n- NumPy\n- Matplotlib\n- Seaborn\n- Pytorch\n- Tensorflow",
      "metadata": {
        "trusted": true
      },
      "outputs": [],
      "execution_count": null
    },
    {
      "cell_type": "markdown",
      "source": "Some of the commonly used libraries used by data Scientists include:\n- Pandas\n- NumPy\n- Matplotlib\n- Seaborn\n- Pytorch\n- Tensorflow",
      "metadata": {}
    },
    {
      "cell_type": "code",
      "source": "#####################################################################################################################################################\n#####################################################################################################################################################\n#####################################################################################################################################################",
      "metadata": {
        "trusted": true
      },
      "outputs": [],
      "execution_count": null
    },
    {
      "cell_type": "markdown",
      "source": "# ***Exercise 6***",
      "metadata": {}
    },
    {
      "cell_type": "code",
      "source": "#Exercise 6: Create a markdown cell with a table of Data Science tools",
      "metadata": {
        "trusted": true
      },
      "outputs": [],
      "execution_count": null
    },
    {
      "cell_type": "code",
      "source": "|Data Sciecne Tools|\n|------------------|\n| Jupyter Notebooks |\n| RStudio |\n| VScode |",
      "metadata": {
        "trusted": true
      },
      "outputs": [],
      "execution_count": null
    },
    {
      "cell_type": "markdown",
      "source": "|Data Sciecne Tools|\n|------------------|\n| Jupyter Notebooks |\n| RStudio |\n| VScode |",
      "metadata": {}
    },
    {
      "cell_type": "code",
      "source": "#####################################################################################################################################################\n#####################################################################################################################################################\n#####################################################################################################################################################",
      "metadata": {
        "trusted": true
      },
      "outputs": [],
      "execution_count": null
    },
    {
      "cell_type": "markdown",
      "source": "# ***Exercise 7***",
      "metadata": {}
    },
    {
      "cell_type": "code",
      "source": "#Exercise 7: Create a markdown introducing arithmetic expression examples. Add a line in this cell with H3 style heading text like:\n#    - Below are a few examples of evaluating arithmetic expressions in Python.",
      "metadata": {
        "trusted": true
      },
      "outputs": [],
      "execution_count": null
    },
    {
      "cell_type": "code",
      "source": "### Below are a few examples of evaluating arithmetic expressions in Python.",
      "metadata": {
        "trusted": true
      },
      "outputs": [],
      "execution_count": null
    },
    {
      "cell_type": "markdown",
      "source": "### Below are a few examples of evaluating arithmetic expressions in Python.",
      "metadata": {}
    },
    {
      "cell_type": "code",
      "source": "2+3",
      "metadata": {
        "trusted": true
      },
      "outputs": [
        {
          "execution_count": 5,
          "output_type": "execute_result",
          "data": {
            "text/plain": "5"
          },
          "metadata": {}
        }
      ],
      "execution_count": 5
    },
    {
      "cell_type": "code",
      "source": "10-3",
      "metadata": {
        "trusted": true
      },
      "outputs": [
        {
          "execution_count": 8,
          "output_type": "execute_result",
          "data": {
            "text/plain": "7"
          },
          "metadata": {}
        }
      ],
      "execution_count": 8
    },
    {
      "cell_type": "code",
      "source": "25-15+7",
      "metadata": {
        "trusted": true
      },
      "outputs": [
        {
          "execution_count": 9,
          "output_type": "execute_result",
          "data": {
            "text/plain": "17"
          },
          "metadata": {}
        }
      ],
      "execution_count": 9
    },
    {
      "cell_type": "code",
      "source": "#####################################################################################################################################################\n#####################################################################################################################################################\n#####################################################################################################################################################",
      "metadata": {
        "trusted": true
      },
      "outputs": [],
      "execution_count": null
    },
    {
      "cell_type": "markdown",
      "source": "# ***Exercise 8***",
      "metadata": {}
    },
    {
      "cell_type": "code",
      "source": "#Exercise 8: Create a code cell to multiply and add numbers",
      "metadata": {
        "trusted": true
      },
      "outputs": [],
      "execution_count": null
    },
    {
      "cell_type": "code",
      "source": "# This is a simple arithmetic expression to multiply and add integers.",
      "metadata": {
        "trusted": true
      },
      "outputs": [],
      "execution_count": null
    },
    {
      "cell_type": "code",
      "source": "(3*4)+5",
      "metadata": {
        "trusted": true
      },
      "outputs": [
        {
          "execution_count": 10,
          "output_type": "execute_result",
          "data": {
            "text/plain": "17"
          },
          "metadata": {}
        }
      ],
      "execution_count": 10
    },
    {
      "cell_type": "code",
      "source": "#####################################################################################################################################################\n#####################################################################################################################################################\n#####################################################################################################################################################",
      "metadata": {
        "trusted": true
      },
      "outputs": [],
      "execution_count": null
    },
    {
      "cell_type": "markdown",
      "source": "# ***Exercise 9***",
      "metadata": {}
    },
    {
      "cell_type": "code",
      "source": "#Exercise 9: Create a code cell to convert minutes into hours",
      "metadata": {
        "trusted": true
      },
      "outputs": [],
      "execution_count": null
    },
    {
      "cell_type": "code",
      "source": "#This will convert 200 minutes to hours by dividing by 60.",
      "metadata": {
        "trusted": true
      },
      "outputs": [],
      "execution_count": null
    },
    {
      "cell_type": "code",
      "source": "Minutes = 200\nHours = Minutes/60 ",
      "metadata": {
        "trusted": true
      },
      "outputs": [],
      "execution_count": 38
    },
    {
      "cell_type": "code",
      "source": "#Used str to format/round the hours into two decimal places.",
      "metadata": {
        "trusted": true
      },
      "outputs": [],
      "execution_count": null
    },
    {
      "cell_type": "code",
      "source": "Hours = str(round(Hours,2))",
      "metadata": {
        "trusted": true
      },
      "outputs": [],
      "execution_count": 46
    },
    {
      "cell_type": "code",
      "source": "Hours",
      "metadata": {
        "trusted": true
      },
      "outputs": [
        {
          "execution_count": 47,
          "output_type": "execute_result",
          "data": {
            "text/plain": "'3.33'"
          },
          "metadata": {}
        }
      ],
      "execution_count": 47
    },
    {
      "cell_type": "code",
      "source": "#####################################################################################################################################################\n#####################################################################################################################################################\n#####################################################################################################################################################",
      "metadata": {
        "trusted": true
      },
      "outputs": [],
      "execution_count": null
    },
    {
      "cell_type": "markdown",
      "source": "# ***Exercise 10***",
      "metadata": {}
    },
    {
      "cell_type": "code",
      "source": "#Exercise 10: Insert a markdown cell to list Objectives",
      "metadata": {
        "trusted": true
      },
      "outputs": [],
      "execution_count": null
    },
    {
      "cell_type": "code",
      "source": "In this notebook, Data Science Tools and Ecosystem are summarized\n\n**Objectives**\n- List Languages for Data Science\n- List Data Science Libraries\n- List Data Science Tools",
      "metadata": {
        "trusted": true
      },
      "outputs": [],
      "execution_count": null
    },
    {
      "cell_type": "markdown",
      "source": "In this notebook, Data Science Tools and Ecosystem are summarized\n\n**Objectives**\n- List Languages for Data Science\n- List Data Science Libraries\n- List Data Science Tools",
      "metadata": {}
    },
    {
      "cell_type": "code",
      "source": "#####################################################################################################################################################\n#####################################################################################################################################################\n#####################################################################################################################################################",
      "metadata": {
        "trusted": true
      },
      "outputs": [],
      "execution_count": null
    },
    {
      "cell_type": "markdown",
      "source": "# ***Exercise 11***",
      "metadata": {}
    },
    {
      "cell_type": "code",
      "source": "#Exercise 11: Create a markdown cell to indicate the Author's name\n#In this markdown cell include the following text Author in H2 style heading. Include your name as regular text below the word Author.",
      "metadata": {
        "trusted": true
      },
      "outputs": [],
      "execution_count": null
    },
    {
      "cell_type": "code",
      "source": "## Author\nNeil",
      "metadata": {
        "trusted": true
      },
      "outputs": [],
      "execution_count": null
    },
    {
      "cell_type": "markdown",
      "source": "## Author\nNeil",
      "metadata": {}
    },
    {
      "cell_type": "code",
      "source": "",
      "metadata": {
        "trusted": true
      },
      "outputs": [],
      "execution_count": null
    }
  ]
}